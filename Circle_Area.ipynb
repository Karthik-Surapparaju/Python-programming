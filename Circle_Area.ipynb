{
 "cells": [
  {
   "cell_type": "code",
   "execution_count": 1,
   "id": "796f6a73-4637-4a01-9ae6-d46044b91424",
   "metadata": {},
   "outputs": [
    {
     "name": "stdout",
     "output_type": "stream",
     "text": [
      "Welcome to the Circle Area Calculator!\n"
     ]
    },
    {
     "name": "stdin",
     "output_type": "stream",
     "text": [
      "Enter the radius of the circle:  12\n"
     ]
    },
    {
     "name": "stdout",
     "output_type": "stream",
     "text": [
      "The area of the circle with radius 12.0 is: 452.39\n"
     ]
    }
   ],
   "source": [
    "import math\n",
    "\n",
    "def calculate_area_of_circle():\n",
    "    print(\"Welcome to the Circle Area Calculator!\")\n",
    "\n",
    "    # Get the radius from the user\n",
    "    radius = float(input(\"Enter the radius of the circle: \"))\n",
    "\n",
    "    # Calculate the area\n",
    "    area = math.pi * radius**2\n",
    "\n",
    "    # Display the result\n",
    "    print(f\"The area of the circle with radius {radius} is: {area:.2f}\")\n",
    "\n",
    "# Run the function\n",
    "calculate_area_of_circle()\n"
   ]
  },
  {
   "cell_type": "code",
   "execution_count": null,
   "id": "fb30c36b-0c0f-4cc9-b5c0-6f3d34ca8d4e",
   "metadata": {},
   "outputs": [],
   "source": []
  }
 ],
 "metadata": {
  "kernelspec": {
   "display_name": "Python 3 (ipykernel)",
   "language": "python",
   "name": "python3"
  },
  "language_info": {
   "codemirror_mode": {
    "name": "ipython",
    "version": 3
   },
   "file_extension": ".py",
   "mimetype": "text/x-python",
   "name": "python",
   "nbconvert_exporter": "python",
   "pygments_lexer": "ipython3",
   "version": "3.11.7"
  }
 },
 "nbformat": 4,
 "nbformat_minor": 5
}
