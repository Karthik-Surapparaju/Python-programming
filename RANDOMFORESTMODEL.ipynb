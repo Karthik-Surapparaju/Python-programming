{
 "cells": [
  {
   "cell_type": "code",
   "execution_count": 8,
   "id": "4870da47-d467-4d8f-9cbc-4a2ab77aef10",
   "metadata": {},
   "outputs": [
    {
     "name": "stdout",
     "output_type": "stream",
     "text": [
      "Accuracy: 0.96\n",
      "\n",
      "Classification Report:\n",
      "              precision    recall  f1-score   support\n",
      "\n",
      "      Benign       0.96      0.99      0.97        71\n",
      "   Malignant       0.98      0.93      0.95        43\n",
      "\n",
      "    accuracy                           0.96       114\n",
      "   macro avg       0.97      0.96      0.96       114\n",
      "weighted avg       0.97      0.96      0.96       114\n",
      "\n",
      "\n",
      "Confusion Matrix:\n",
      "[[70  1]\n",
      " [ 3 40]]\n",
      "\n",
      "ROC-AUC Score: 1.00\n",
      "\n",
      "Feature Importances:\n",
      "                    Feature  Importance\n",
      "23               Area_worst    0.153892\n",
      "27     Concave_points_worst    0.144663\n",
      "7       Concave_points_mean    0.106210\n",
      "20             Radius_worst    0.077987\n",
      "6            Concavity_mean    0.068001\n",
      "22          Perimeter_worst    0.067115\n",
      "2            Perimeter_mean    0.053270\n",
      "0               Radius_mean    0.048703\n",
      "3                 Area_mean    0.047555\n",
      "26          Concavity_worst    0.031802\n",
      "13                  Area_se    0.022407\n",
      "21            Texture_worst    0.021749\n",
      "25        Compactness_worst    0.020266\n",
      "10                Radius_se    0.020139\n",
      "5          Compactness_mean    0.013944\n",
      "1              Texture_mean    0.013591\n",
      "12             Perimeter_se    0.011303\n",
      "24         Smoothness_worst    0.010644\n",
      "28           Symmetry_worst    0.010120\n",
      "16             Concavity_se    0.009386\n",
      "4           Smoothness_mean    0.007285\n",
      "19     Fractal_dimension_se    0.005321\n",
      "15           Compactness_se    0.005253\n",
      "29  Fractal_dimension_worst    0.005210\n",
      "11               Texture_se    0.004724\n",
      "14            Smoothness_se    0.004271\n",
      "18              Symmetry_se    0.004018\n",
      "9    Fractal_dimension_mean    0.003886\n",
      "8             Symmetry_mean    0.003770\n",
      "17        Concave_points_se    0.003513\n"
     ]
    }
   ],
   "source": [
    "import pandas as pd\n",
    "from sklearn.model_selection import train_test_split\n",
    "from sklearn.preprocessing import StandardScaler\n",
    "from sklearn.ensemble import RandomForestClassifier\n",
    "from sklearn.metrics import classification_report, accuracy_score, confusion_matrix, roc_auc_score\n"
   ]
  },
  {
   "cell_type": "code",
   "execution_count": 9,
   "id": "64b8ff7f-8a1a-4ce7-8987-c3c69817f222",
   "metadata": {},
   "outputs": [],
   "source": [
    "\n",
    "# Step 1: Load the dataset from the UCI Machine Learning Repository\n",
    "url = \"https://archive.ics.uci.edu/ml/machine-learning-databases/breast-cancer-wisconsin/wdbc.data\"\n",
    "columns = [\n",
    "    'ID', 'Diagnosis', 'Radius_mean', 'Texture_mean', 'Perimeter_mean', 'Area_mean', 'Smoothness_mean',\n",
    "    'Compactness_mean', 'Concavity_mean', 'Concave_points_mean', 'Symmetry_mean', 'Fractal_dimension_mean',\n",
    "    'Radius_se', 'Texture_se', 'Perimeter_se', 'Area_se', 'Smoothness_se', 'Compactness_se', 'Concavity_se',\n",
    "    'Concave_points_se', 'Symmetry_se', 'Fractal_dimension_se', 'Radius_worst', 'Texture_worst', 'Perimeter_worst',\n",
    "    'Area_worst', 'Smoothness_worst', 'Compactness_worst', 'Concavity_worst', 'Concave_points_worst', 'Symmetry_worst',\n",
    "    'Fractal_dimension_worst'\n",
    "]\n",
    "\n",
    "# Load the dataset into a DataFrame\n",
    "data = pd.read_csv(url, header=None, names=columns)\n",
    "\n",
    "# Convert the 'Diagnosis' column to binary (B: 0 for benign, M: 1 for malignant)\n",
    "data['Diagnosis'] = data['Diagnosis'].map({'M': 1, 'B': 0})\n",
    "\n",
    "# Drop the 'ID' column as it is not relevant to the prediction\n",
    "X = data.drop(columns=['ID', 'Diagnosis'])\n",
    "y = data['Diagnosis']\n",
    "\n"
   ]
  },
  {
   "cell_type": "code",
   "execution_count": 10,
   "id": "ea48893f-5b02-4d9c-864e-648a62b320aa",
   "metadata": {},
   "outputs": [],
   "source": [
    "# Step 2: Train-test split\n",
    "X_train, X_test, y_train, y_test = train_test_split(X, y, test_size=0.2, random_state=42)\n",
    "\n",
    "# Step 3: Feature Scaling\n",
    "scaler = StandardScaler()\n",
    "X_train_scaled = scaler.fit_transform(X_train)\n",
    "X_test_scaled = scaler.transform(X_test)\n",
    "\n",
    "# Step 4: Train a Random Forest Classifier\n",
    "rf_model = RandomForestClassifier(n_estimators=100, random_state=42)\n",
    "rf_model.fit(X_train_scaled, y_train)\n",
    "\n",
    "# Step 5: Make predictions\n",
    "y_pred = rf_model.predict(X_test_scaled)\n",
    "\n",
    "\n"
   ]
  },
  {
   "cell_type": "code",
   "execution_count": 11,
   "id": "05a18336-7d87-4bb0-88c4-fdba7264295d",
   "metadata": {},
   "outputs": [
    {
     "name": "stdout",
     "output_type": "stream",
     "text": [
      "Accuracy: 0.96\n",
      "\n",
      "Classification Report:\n",
      "              precision    recall  f1-score   support\n",
      "\n",
      "      Benign       0.96      0.99      0.97        71\n",
      "   Malignant       0.98      0.93      0.95        43\n",
      "\n",
      "    accuracy                           0.96       114\n",
      "   macro avg       0.97      0.96      0.96       114\n",
      "weighted avg       0.97      0.96      0.96       114\n",
      "\n",
      "\n",
      "Confusion Matrix:\n",
      "[[70  1]\n",
      " [ 3 40]]\n"
     ]
    }
   ],
   "source": [
    "# Step 6: Evaluation\n",
    "accuracy = accuracy_score(y_test, y_pred)\n",
    "print(f\"Accuracy: {accuracy:.2f}\")\n",
    "\n",
    "# Detailed classification report\n",
    "print(\"\\nClassification Report:\")\n",
    "print(classification_report(y_test, y_pred, target_names=['Benign', 'Malignant']))\n",
    "\n",
    "# Confusion Matrix\n",
    "print(\"\\nConfusion Matrix:\")\n",
    "print(confusion_matrix(y_test, y_pred))\n"
   ]
  },
  {
   "cell_type": "code",
   "execution_count": 12,
   "id": "204fa24f-451f-49a0-a5b8-48681b1941dc",
   "metadata": {},
   "outputs": [
    {
     "name": "stdout",
     "output_type": "stream",
     "text": [
      "\n",
      "ROC-AUC Score: 1.00\n"
     ]
    }
   ],
   "source": [
    "\n",
    "# ROC-AUC Score\n",
    "y_pred_prob = rf_model.predict_proba(X_test_scaled)[:, 1]\n",
    "roc_auc = roc_auc_score(y_test, y_pred_prob)\n",
    "print(f\"\\nROC-AUC Score: {roc_auc:.2f}\")\n",
    "\n"
   ]
  },
  {
   "cell_type": "code",
   "execution_count": null,
   "id": "f57ac912-7347-409e-91e6-54b66745aead",
   "metadata": {},
   "outputs": [],
   "source": []
  }
 ],
 "metadata": {
  "kernelspec": {
   "display_name": "Python 3 (ipykernel)",
   "language": "python",
   "name": "python3"
  },
  "language_info": {
   "codemirror_mode": {
    "name": "ipython",
    "version": 3
   },
   "file_extension": ".py",
   "mimetype": "text/x-python",
   "name": "python",
   "nbconvert_exporter": "python",
   "pygments_lexer": "ipython3",
   "version": "3.11.7"
  }
 },
 "nbformat": 4,
 "nbformat_minor": 5
}
