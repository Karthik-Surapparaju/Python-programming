{
 "cells": [
  {
   "cell_type": "code",
   "execution_count": null,
   "id": "c2efde3e-be2d-4775-92f3-c57604e6858e",
   "metadata": {},
   "outputs": [],
   "source": [
    "# A basic calculator program\n",
    "def calculator():\n",
    "    print(\"Basic Calculator\")\n",
    "    num1 = float(input(\"Enter the first number: \"))\n",
    "    num2 = float(input(\"Enter the second number: \"))\n",
    "    operation = input(\"Choose an operation (+, -, *, /): \")\n",
    "    \n",
    "    if operation == '+':\n",
    "        print(f\"Result: {num1 + num2}\")\n",
    "    elif operation == '-':\n",
    "        print(f\"Result: {num1 - num2}\")\n",
    "    elif operation == '*':\n",
    "        print(f\"Result: {num1 * num2}\")\n",
    "    elif operation == '/':\n",
    "        if num2 != 0:\n",
    "            print(f\"Result: {num1 / num2}\")\n",
    "        else:\n",
    "            print(\"Error: Division by zero is not allowed.\")\n",
    "    else:\n",
    "        print(\"Invalid operation.\")\n",
    "\n",
    "calculator()\n"
   ]
  }
 ],
 "metadata": {
  "kernelspec": {
   "display_name": "Python 3 (ipykernel)",
   "language": "python",
   "name": "python3"
  },
  "language_info": {
   "codemirror_mode": {
    "name": "ipython",
    "version": 3
   },
   "file_extension": ".py",
   "mimetype": "text/x-python",
   "name": "python",
   "nbconvert_exporter": "python",
   "pygments_lexer": "ipython3",
   "version": "3.11.7"
  }
 },
 "nbformat": 4,
 "nbformat_minor": 5
}
